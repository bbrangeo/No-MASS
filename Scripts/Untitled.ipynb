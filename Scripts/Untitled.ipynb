{
 "cells": [
  {
   "cell_type": "code",
   "execution_count": 10,
   "id": "6eda537c-3a7e-453a-832a-b755f414e54d",
   "metadata": {},
   "outputs": [
    {
     "name": "stdout",
     "output_type": "stream",
     "text": [
      "Run location: ../FMU/build/Simulation/\n",
      "locationOfNoMASS: ../FMU/build/\n",
      "configurationDirectory: ../Configuration/Experiment4/\n",
      "resultsLocation: ../FMU/build/Results/\n",
      "printInput: True\n",
      "numberOfSimulations: 1\n",
      "Learning: False\n",
      "Number of agents 2\n",
      "Number of large appliances 6\n",
      "Number of small appliances 4\n",
      "Number of pv appliances 1\n",
      "Total Simulation Time: 00 seconds\n"
     ]
    }
   ],
   "source": [
    "from NoMASS import NoMASS\n",
    "nomass = NoMASS()\n",
    "\n",
    "nomass.runLocation = \"../FMU/build/Simulation/\"\n",
    "nomass.locationOfNoMASS = \"../FMU/build/\"\n",
    "nomass.configurationDirectory = \"../Configuration/Experiment4/\"\n",
    "nomass.resultsLocation = \"../FMU/build/Results/\"\n",
    "nomass.learningXMLFile=\"SimulationConfig.xml\"\n",
    "nomass.PVFile = \"PVBowler2013_365.csv\"\n",
    "\n",
    "nomass.printInput = True\n",
    "nomass.numberOfSimulations = 1\n",
    "nomass.learnUpToSimulation = 0\n",
    "nomass.simulate()\n",
    "#nomass.deleteLearningData()\n"
   ]
  },
  {
   "cell_type": "code",
   "execution_count": null,
   "id": "825409a7-c7b2-4ff5-87d4-43b129427ee4",
   "metadata": {},
   "outputs": [],
   "source": []
  }
 ],
 "metadata": {
  "kernelspec": {
   "display_name": "Python 3 (ipykernel)",
   "language": "python",
   "name": "python3"
  },
  "language_info": {
   "codemirror_mode": {
    "name": "ipython",
    "version": 3
   },
   "file_extension": ".py",
   "mimetype": "text/x-python",
   "name": "python",
   "nbconvert_exporter": "python",
   "pygments_lexer": "ipython3",
   "version": "3.12.3"
  }
 },
 "nbformat": 4,
 "nbformat_minor": 5
}
